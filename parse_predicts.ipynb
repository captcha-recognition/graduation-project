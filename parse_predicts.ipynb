{
 "cells": [
  {
   "cell_type": "code",
   "execution_count": 37,
   "metadata": {},
   "outputs": [],
   "source": [
    "import pandas as pd\n",
    "import os"
   ]
  },
  {
   "cell_type": "code",
   "execution_count": 38,
   "metadata": {},
   "outputs": [
    {
     "data": {
      "text/html": [
       "<div>\n",
       "<style scoped>\n",
       "    .dataframe tbody tr th:only-of-type {\n",
       "        vertical-align: middle;\n",
       "    }\n",
       "\n",
       "    .dataframe tbody tr th {\n",
       "        vertical-align: top;\n",
       "    }\n",
       "\n",
       "    .dataframe thead th {\n",
       "        text-align: right;\n",
       "    }\n",
       "</style>\n",
       "<table border=\"1\" class=\"dataframe\">\n",
       "  <thead>\n",
       "    <tr style=\"text-align: right;\">\n",
       "      <th></th>\n",
       "      <th>Image_path</th>\n",
       "      <th>Real</th>\n",
       "      <th>Pred</th>\n",
       "    </tr>\n",
       "  </thead>\n",
       "  <tbody>\n",
       "    <tr>\n",
       "      <th>0</th>\n",
       "      <td>/Users/sjhuang/Documents/docs/dataset/crawlers...</td>\n",
       "      <td>anhui</td>\n",
       "      <td>8myn</td>\n",
       "    </tr>\n",
       "    <tr>\n",
       "      <th>1</th>\n",
       "      <td>/Users/sjhuang/Documents/docs/dataset/crawlers...</td>\n",
       "      <td>anhui</td>\n",
       "      <td>fm52</td>\n",
       "    </tr>\n",
       "    <tr>\n",
       "      <th>2</th>\n",
       "      <td>/Users/sjhuang/Documents/docs/dataset/crawlers...</td>\n",
       "      <td>anhui</td>\n",
       "      <td>5n52</td>\n",
       "    </tr>\n",
       "    <tr>\n",
       "      <th>3</th>\n",
       "      <td>/Users/sjhuang/Documents/docs/dataset/crawlers...</td>\n",
       "      <td>anhui</td>\n",
       "      <td>doyh</td>\n",
       "    </tr>\n",
       "    <tr>\n",
       "      <th>4</th>\n",
       "      <td>/Users/sjhuang/Documents/docs/dataset/crawlers...</td>\n",
       "      <td>anhui</td>\n",
       "      <td>ssjp</td>\n",
       "    </tr>\n",
       "  </tbody>\n",
       "</table>\n",
       "</div>"
      ],
      "text/plain": [
       "                                          Image_path   Real  Pred\n",
       "0  /Users/sjhuang/Documents/docs/dataset/crawlers...  anhui  8myn\n",
       "1  /Users/sjhuang/Documents/docs/dataset/crawlers...  anhui  fm52\n",
       "2  /Users/sjhuang/Documents/docs/dataset/crawlers...  anhui  5n52\n",
       "3  /Users/sjhuang/Documents/docs/dataset/crawlers...  anhui  doyh\n",
       "4  /Users/sjhuang/Documents/docs/dataset/crawlers...  anhui  ssjp"
      ]
     },
     "execution_count": 38,
     "metadata": {},
     "output_type": "execute_result"
    }
   ],
   "source": [
    "path = 'predicts/anhui.12388.gov.cn_resnet_v2_rnn_ctc.csv'\n",
    "preds = pd.read_csv(path,dtype=str)\n",
    "preds.head()"
   ]
  },
  {
   "cell_type": "code",
   "execution_count": 39,
   "metadata": {},
   "outputs": [],
   "source": [
    "image_paths =preds['Image_path'].to_list()\n",
    "reals = preds['Real'].to_list()\n",
    "predicts = preds['Pred'].to_list()"
   ]
  },
  {
   "cell_type": "code",
   "execution_count": 40,
   "metadata": {},
   "outputs": [],
   "source": [
    "def get_base_path(image_path):\n",
    "    image_name = image_path.split('/')[-1]\n",
    "    base_path = image_path[0:len(image_path)-len(image_name)]\n",
    "    return base_path"
   ]
  },
  {
   "cell_type": "code",
   "execution_count": 41,
   "metadata": {},
   "outputs": [
    {
     "data": {
      "text/plain": [
       "'/Users/sjhuang/Documents/docs/dataset/crawlers/anhui.12388.gov.cn/'"
      ]
     },
     "execution_count": 41,
     "metadata": {},
     "output_type": "execute_result"
    }
   ],
   "source": [
    "base_path = get_base_path(image_paths[0])\n",
    "base_path"
   ]
  },
  {
   "cell_type": "code",
   "execution_count": 42,
   "metadata": {},
   "outputs": [],
   "source": [
    "for image_path,real, pred in zip(image_paths,reals,predicts):\n",
    "    ty = image_path.split('.')[-1]\n",
    "    base_path = get_base_path(image_path)\n",
    "    new_path_name = f'{pred}.{ty}'\n",
    "    new_image_path = os.path.join(base_path,new_path_name)\n",
    "    os.rename(image_path,new_image_path)"
   ]
  }
 ],
 "metadata": {
  "interpreter": {
   "hash": "ddb6ac1274766aae8d48ea24c2a86f46ae3ad795c594d0c816246e36b08c5206"
  },
  "kernelspec": {
   "display_name": "Python 3.9.5 64-bit ('dl': conda)",
   "name": "python3"
  },
  "language_info": {
   "codemirror_mode": {
    "name": "ipython",
    "version": 3
   },
   "file_extension": ".py",
   "mimetype": "text/x-python",
   "name": "python",
   "nbconvert_exporter": "python",
   "pygments_lexer": "ipython3",
   "version": "3.9.5"
  },
  "orig_nbformat": 4
 },
 "nbformat": 4,
 "nbformat_minor": 2
}
