{
 "cells": [
  {
   "cell_type": "code",
   "execution_count": 11,
   "metadata": {},
   "outputs": [],
   "source": [
    "path = '/Users/sjhuang/Documents/docs/dataset/train/xyhn.hainan.gov.cn'"
   ]
  },
  {
   "cell_type": "code",
   "execution_count": 12,
   "metadata": {},
   "outputs": [],
   "source": [
    "import pandas as pd\n",
    "import os"
   ]
  },
  {
   "cell_type": "code",
   "execution_count": 13,
   "metadata": {},
   "outputs": [
    {
     "data": {
      "text/html": [
       "<div>\n",
       "<style scoped>\n",
       "    .dataframe tbody tr th:only-of-type {\n",
       "        vertical-align: middle;\n",
       "    }\n",
       "\n",
       "    .dataframe tbody tr th {\n",
       "        vertical-align: top;\n",
       "    }\n",
       "\n",
       "    .dataframe thead th {\n",
       "        text-align: right;\n",
       "    }\n",
       "</style>\n",
       "<table border=\"1\" class=\"dataframe\">\n",
       "  <thead>\n",
       "    <tr style=\"text-align: right;\">\n",
       "      <th></th>\n",
       "      <th>验证码</th>\n",
       "      <th>识别结果</th>\n",
       "    </tr>\n",
       "  </thead>\n",
       "  <tbody>\n",
       "    <tr>\n",
       "      <th>0</th>\n",
       "      <td>D:/网页截图2021110500002.jpg</td>\n",
       "      <td>dfyf</td>\n",
       "    </tr>\n",
       "    <tr>\n",
       "      <th>1</th>\n",
       "      <td>D:/网页截图2021110500003.jpg</td>\n",
       "      <td>eor4</td>\n",
       "    </tr>\n",
       "    <tr>\n",
       "      <th>2</th>\n",
       "      <td>D:/网页截图2021110500004.jpg</td>\n",
       "      <td>f33e</td>\n",
       "    </tr>\n",
       "    <tr>\n",
       "      <th>3</th>\n",
       "      <td>D:/网页截图2021110500005.jpg</td>\n",
       "      <td>hg8x</td>\n",
       "    </tr>\n",
       "    <tr>\n",
       "      <th>4</th>\n",
       "      <td>D:/网页截图2021110500006.jpg</td>\n",
       "      <td>6veu</td>\n",
       "    </tr>\n",
       "  </tbody>\n",
       "</table>\n",
       "</div>"
      ],
      "text/plain": [
       "                        验证码  识别结果\n",
       "0  D:/网页截图2021110500002.jpg  dfyf\n",
       "1  D:/网页截图2021110500003.jpg  eor4\n",
       "2  D:/网页截图2021110500004.jpg  f33e\n",
       "3  D:/网页截图2021110500005.jpg  hg8x\n",
       "4  D:/网页截图2021110500006.jpg  6veu"
      ]
     },
     "execution_count": 13,
     "metadata": {},
     "output_type": "execute_result"
    }
   ],
   "source": [
    "data = pd.read_csv(os.path.join(path,'xyhn.hainan.gov.cn.csv'),dtype=str)\n",
    "data.head()"
   ]
  },
  {
   "cell_type": "code",
   "execution_count": 9,
   "metadata": {},
   "outputs": [],
   "source": [
    "def handle_img(id,label,idx,path):\n",
    "    ty = id.split('.')[-1]\n",
    "    file_name = f'{idx}_{label}.{ty}'\n",
    "    src = os.path.join(path,id)\n",
    "    dst = os.path.join(path,file_name)\n",
    "    os.rename(src,dst)"
   ]
  },
  {
   "cell_type": "code",
   "execution_count": 10,
   "metadata": {},
   "outputs": [],
   "source": [
    "ids = data['验证码'].values\n",
    "labels = data['识别结果'].values\n",
    "idx = 0\n",
    "for id, label in zip(ids,labels):\n",
    "    id = id.split('/')[1]\n",
    "    handle_img(id,label,idx,path)\n",
    "    idx += 1"
   ]
  },
  {
   "cell_type": "markdown",
   "metadata": {},
   "source": [
    "# FIX DATA\n"
   ]
  },
  {
   "cell_type": "code",
   "execution_count": 56,
   "metadata": {},
   "outputs": [],
   "source": [
    "path = '/Users/sjhuang/Documents/docs/dataset/train/61.190.38.254_8088'"
   ]
  },
  {
   "cell_type": "code",
   "execution_count": 57,
   "metadata": {},
   "outputs": [],
   "source": [
    "import os"
   ]
  },
  {
   "cell_type": "code",
   "execution_count": 58,
   "metadata": {},
   "outputs": [
    {
     "data": {
      "text/plain": [
       "['68_5141.jpg',\n",
       " '333_7341.jpg',\n",
       " '57_1939.jpg',\n",
       " '288_56.jpg',\n",
       " '154_4516.jpg',\n",
       " '356_2022.jpg',\n",
       " '386_1070.jpg',\n",
       " '175_1767.jpg',\n",
       " '114_837.jpg',\n",
       " '213_9020.jpg']"
      ]
     },
     "execution_count": 58,
     "metadata": {},
     "output_type": "execute_result"
    }
   ],
   "source": [
    "files = os.listdir(path)\n",
    "imgs = list(filter(lambda x: x.endswith('.jpg') or x.endswith('.png') or x.endswith('.jpeg'),files))\n",
    "imgs[:10]"
   ]
  },
  {
   "cell_type": "code",
   "execution_count": 60,
   "metadata": {},
   "outputs": [],
   "source": [
    "for img in imgs:\n",
    "    id,info = img.split('_')\n",
    "    label, ty = info.split('.')\n",
    "    label = label.rjust(4,'0')\n",
    "    os.rename(os.path.join(path,img),os.path.join(path,f'{id}_{label}.{ty}'))"
   ]
  }
 ],
 "metadata": {
  "interpreter": {
   "hash": "ddb6ac1274766aae8d48ea24c2a86f46ae3ad795c594d0c816246e36b08c5206"
  },
  "kernelspec": {
   "display_name": "Python 3.9.5 64-bit ('dl': conda)",
   "name": "python3"
  },
  "language_info": {
   "codemirror_mode": {
    "name": "ipython",
    "version": 3
   },
   "file_extension": ".py",
   "mimetype": "text/x-python",
   "name": "python",
   "nbconvert_exporter": "python",
   "pygments_lexer": "ipython3",
   "version": "3.9.5"
  }
 },
 "nbformat": 4,
 "nbformat_minor": 0
}
